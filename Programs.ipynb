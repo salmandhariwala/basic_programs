{
 "cells": [
  {
   "cell_type": "markdown",
   "metadata": {
    "collapsed": true
   },
   "source": [
    "## To check a String is palindrome or not"
   ]
  },
  {
   "cell_type": "code",
   "execution_count": 15,
   "metadata": {
    "collapsed": false
   },
   "outputs": [
    {
     "name": "stdout",
     "output_type": "stream",
     "text": [
      "False\n"
     ]
    }
   ],
   "source": [
    "# using reverse of string approach\n",
    "\n",
    "def is_palindrome(input,case_sensitive=False):\n",
    "    \n",
    "    # make sure convert anything to string first\n",
    "    input = str(input)\n",
    "    \n",
    "    # make case sensitive adjustment\n",
    "    if case_sensitive is False:\n",
    "        input = input.lower()\n",
    "    \n",
    "    # reverse input string\n",
    "    rev_input = input[::-1]\n",
    "    \n",
    "    # check reverse string is same as input string\n",
    "    if rev_input == input:\n",
    "        return True\n",
    "    else :\n",
    "        return False\n",
    "    \n",
    "    \n",
    "# test\n",
    "print(is_palindrome(\"Nayan\",True))"
   ]
  }
 ],
 "metadata": {
  "kernelspec": {
   "display_name": "Python 2",
   "language": "python",
   "name": "python2"
  },
  "language_info": {
   "codemirror_mode": {
    "name": "ipython",
    "version": 2
   },
   "file_extension": ".py",
   "mimetype": "text/x-python",
   "name": "python",
   "nbconvert_exporter": "python",
   "pygments_lexer": "ipython2",
   "version": "2.7.6"
  }
 },
 "nbformat": 4,
 "nbformat_minor": 1
}
