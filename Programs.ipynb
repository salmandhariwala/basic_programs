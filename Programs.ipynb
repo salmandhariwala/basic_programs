{
 "cells": [
  {
   "cell_type": "markdown",
   "metadata": {
    "collapsed": true
   },
   "source": [
    "## To check a String is palindrome or not"
   ]
  },
  {
   "cell_type": "code",
   "execution_count": 15,
   "metadata": {
    "collapsed": false
   },
   "outputs": [
    {
     "name": "stdout",
     "output_type": "stream",
     "text": [
      "False\n"
     ]
    }
   ],
   "source": [
    "# using reverse of string approach\n",
    "\n",
    "def is_palindrome(input,case_sensitive=False):\n",
    "    \n",
    "    # make sure convert anything to string first\n",
    "    input = str(input)\n",
    "    \n",
    "    # make case sensitive adjustment\n",
    "    if case_sensitive is False:\n",
    "        input = input.lower()\n",
    "    \n",
    "    # reverse input string\n",
    "    rev_input = input[::-1]\n",
    "    \n",
    "    # check reverse string is same as input string\n",
    "    if rev_input == input:\n",
    "        return True\n",
    "    else :\n",
    "        return False\n",
    "    \n",
    "    \n",
    "# test\n",
    "print(is_palindrome(\"Nayan\",True))"
   ]
  },
  {
   "cell_type": "code",
   "execution_count": 31,
   "metadata": {
    "collapsed": false
   },
   "outputs": [
    {
     "name": "stdout",
     "output_type": "stream",
     "text": [
      "True\n"
     ]
    }
   ],
   "source": [
    "# using loops\n",
    "\n",
    "def is_palindrome(input,case_sensitive=False):\n",
    "    \n",
    "    # make sure convert anything to string first\n",
    "    input = str(input)\n",
    "    \n",
    "    # make case sensitive adjustment\n",
    "    if case_sensitive is False:\n",
    "        input = input.lower()\n",
    "    \n",
    "    # get length of input\n",
    "    length_input = len(input)\n",
    "    \n",
    "    # define flag\n",
    "    is_palin = True\n",
    "    \n",
    "    # loop over and check data points are same or not\n",
    "    for index in range(0,(length_input-1)/2):\n",
    "        if input[index] != input[length_input-1-index]:\n",
    "            is_palin = False\n",
    "            break\n",
    "            \n",
    "    #return flag        \n",
    "    return is_palin       \n",
    "    \n",
    "# test\n",
    "print(is_palindrome(\"Nayan\"))"
   ]
  },
  {
   "cell_type": "markdown",
   "metadata": {},
   "source": [
    "## Method which will remove any given character from a String"
   ]
  },
  {
   "cell_type": "code",
   "execution_count": 11,
   "metadata": {
    "collapsed": false
   },
   "outputs": [
    {
     "name": "stdout",
     "output_type": "stream",
     "text": [
      "salma\n"
     ]
    }
   ],
   "source": [
    "def remove_char(input,char_to_remove):\n",
    "    \n",
    "    # make sure everything is string\n",
    "    input = str(input)\n",
    "    \n",
    "    # define output list\n",
    "    output = []\n",
    "    \n",
    "    # loop over each element and check is it equal to char to remove\n",
    "    for index_char in input:\n",
    "        if index_char != char_to_remove:\n",
    "               output.append(index_char)\n",
    "    \n",
    "    # return by combining element of an array\n",
    "    return ''.join(output)\n",
    "\n",
    "\n",
    "print(remove_char(\"salman\",\"n\"))"
   ]
  }
 ],
 "metadata": {
  "kernelspec": {
   "display_name": "Python 2",
   "language": "python",
   "name": "python2"
  },
  "language_info": {
   "codemirror_mode": {
    "name": "ipython",
    "version": 2
   },
   "file_extension": ".py",
   "mimetype": "text/x-python",
   "name": "python",
   "nbconvert_exporter": "python",
   "pygments_lexer": "ipython2",
   "version": "2.7.6"
  }
 },
 "nbformat": 4,
 "nbformat_minor": 1
}
